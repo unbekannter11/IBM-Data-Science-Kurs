{
 "cells": [
  {
   "cell_type": "markdown",
   "id": "bb7307de",
   "metadata": {},
   "source": [
    "# Data Science Tools and Ecosystem"
   ]
  },
  {
   "cell_type": "markdown",
   "id": "0a882ea0",
   "metadata": {},
   "source": [
    "## In this notebook, Data Science Tools and Ecosystem are summarized.\n",
    "\n",
    "\n",
    "\n"
   ]
  },
  {
   "cell_type": "markdown",
   "id": "67456fd6",
   "metadata": {},
   "source": [
    "### Objectives\n",
    "* Some of the popular languages for Data Scientists\n",
    "* Some of the commonly used libraries for Data Scientists\n",
    "* Arithmetic expressions in Python"
   ]
  },
  {
   "cell_type": "markdown",
   "id": "77d413b9",
   "metadata": {},
   "source": [
    "## Some of the popular languages that Data Scientists use are:\n",
    "\n",
    "* Python\n",
    "* R\n",
    "* SQL\n",
    "* Java\n",
    "* Julia\n",
    "* Scala\n",
    "* C/C++\n",
    "* JavaScript\n",
    "* Swift\n",
    "* Go\n",
    "* MATLAB\n",
    "* SAS"
   ]
  },
  {
   "cell_type": "markdown",
   "id": "209c6561",
   "metadata": {},
   "source": [
    "## Some of the commonly used libraries used by Data Scientists include:\n",
    "* TensorFlow\n",
    "* NumPy\n",
    "* SciPy\n",
    "* Pandas\n",
    "* Matplotlib\n",
    "* Keras\n",
    "* SciKit-Learn\n",
    "* PyTorch"
   ]
  },
  {
   "cell_type": "markdown",
   "id": "fc613093",
   "metadata": {},
   "source": [
    "| Data Science Tools |\n",
    "| --------- |\n",
    "|Python |\n",
    "|R |\n",
    "|TensorFlow |"
   ]
  },
  {
   "cell_type": "markdown",
   "id": "87667404",
   "metadata": {},
   "source": [
    "### Below are a few examples of evaluating arithmetic expressions in Python\n",
    "\n",
    "|Operator|\tExample |Result|\n",
    "| --------- | --------- | --------- |\n",
    "|* |a * b|\tProduct of a and b|\n",
    "|/ |a / b|\tQuotient when a is divided by b. The result always has type float.|\n",
    "%  |a % b|\tRemainder when a is divided by b|\n",
    "|//|a // b|\tQuotient when a is divided by b, rounded to the next smallest whole number|"
   ]
  },
  {
   "cell_type": "code",
   "execution_count": 2,
   "id": "9491b14e",
   "metadata": {},
   "outputs": [
    {
     "data": {
      "text/plain": [
       "17"
      ]
     },
     "execution_count": 2,
     "metadata": {},
     "output_type": "execute_result"
    }
   ],
   "source": [
    "#  This a simple arithmetic expression to mutiply then add integers.\n",
    "\n",
    "(3*4)+5"
   ]
  },
  {
   "cell_type": "code",
   "execution_count": 3,
   "id": "913a5779",
   "metadata": {},
   "outputs": [
    {
     "name": "stdout",
     "output_type": "stream",
     "text": [
      "3:20\n"
     ]
    }
   ],
   "source": [
    "# This will convert 200 minutes to hours by diving by 60.\n",
    "\n",
    "minute = 200\n",
    "hour = minute // 60\n",
    "min_hour = minute % 60 \n",
    "print(hour ,min_hour, sep=':', end='\\n')"
   ]
  },
  {
   "cell_type": "markdown",
   "id": "f8ac0f0e",
   "metadata": {},
   "source": [
    "## Author\n",
    "Osman"
   ]
  }
 ],
 "metadata": {
  "kernelspec": {
   "display_name": "Python 3 (ipykernel)",
   "language": "python",
   "name": "python3"
  },
  "language_info": {
   "codemirror_mode": {
    "name": "ipython",
    "version": 3
   },
   "file_extension": ".py",
   "mimetype": "text/x-python",
   "name": "python",
   "nbconvert_exporter": "python",
   "pygments_lexer": "ipython3",
   "version": "3.9.13"
  }
 },
 "nbformat": 4,
 "nbformat_minor": 5
}
